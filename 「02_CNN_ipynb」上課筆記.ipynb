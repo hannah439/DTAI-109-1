{
  "nbformat": 4,
  "nbformat_minor": 0,
  "metadata": {
    "kernelspec": {
      "display_name": "Python 3",
      "language": "python",
      "name": "python3"
    },
    "language_info": {
      "codemirror_mode": {
        "name": "ipython",
        "version": 3
      },
      "file_extension": ".py",
      "mimetype": "text/x-python",
      "name": "python",
      "nbconvert_exporter": "python",
      "pygments_lexer": "ipython3",
      "version": "3.7.3"
    },
    "colab": {
      "name": "「02 CNN.ipynb」上課筆記",
      "provenance": []
    },
    "accelerator": "GPU",
    "widgets": {
      "application/vnd.jupyter.widget-state+json": {
        "2c0536814ee140b3bfe9c63671338c02": {
          "model_module": "@jupyter-widgets/controls",
          "model_name": "VBoxModel",
          "state": {
            "_view_name": "VBoxView",
            "_dom_classes": [
              "widget-interact"
            ],
            "_model_name": "VBoxModel",
            "_view_module": "@jupyter-widgets/controls",
            "_model_module_version": "1.5.0",
            "_view_count": null,
            "_view_module_version": "1.5.0",
            "box_style": "",
            "layout": "IPY_MODEL_699cf582592b4c23ab77cc8c10e2e3b4",
            "_model_module": "@jupyter-widgets/controls",
            "children": [
              "IPY_MODEL_21abf701905840f5a144c4fd3f3c7a27",
              "IPY_MODEL_70354216c2614d3f84a3e755f33dece9",
              "IPY_MODEL_5ae38e63fdb449c8bcd615e9edc70016"
            ]
          }
        },
        "699cf582592b4c23ab77cc8c10e2e3b4": {
          "model_module": "@jupyter-widgets/base",
          "model_name": "LayoutModel",
          "state": {
            "_view_name": "LayoutView",
            "grid_template_rows": null,
            "right": null,
            "justify_content": null,
            "_view_module": "@jupyter-widgets/base",
            "overflow": null,
            "_model_module_version": "1.2.0",
            "_view_count": null,
            "flex_flow": null,
            "width": null,
            "min_width": null,
            "border": null,
            "align_items": null,
            "bottom": null,
            "_model_module": "@jupyter-widgets/base",
            "top": null,
            "grid_column": null,
            "overflow_y": null,
            "overflow_x": null,
            "grid_auto_flow": null,
            "grid_area": null,
            "grid_template_columns": null,
            "flex": null,
            "_model_name": "LayoutModel",
            "justify_items": null,
            "grid_row": null,
            "max_height": null,
            "align_content": null,
            "visibility": null,
            "align_self": null,
            "height": null,
            "min_height": null,
            "padding": null,
            "grid_auto_rows": null,
            "grid_gap": null,
            "max_width": null,
            "order": null,
            "_view_module_version": "1.2.0",
            "grid_template_areas": null,
            "object_position": null,
            "object_fit": null,
            "grid_auto_columns": null,
            "margin": null,
            "display": null,
            "left": null
          }
        },
        "21abf701905840f5a144c4fd3f3c7a27": {
          "model_module": "@jupyter-widgets/controls",
          "model_name": "IntSliderModel",
          "state": {
            "_view_name": "IntSliderView",
            "style": "IPY_MODEL_74fda2f468f74d51a77181c02beaa898",
            "_dom_classes": [],
            "description": "n",
            "step": 1,
            "_model_name": "IntSliderModel",
            "orientation": "horizontal",
            "max": 9999,
            "_view_module": "@jupyter-widgets/controls",
            "_model_module_version": "1.5.0",
            "value": 3492,
            "_view_count": null,
            "disabled": false,
            "_view_module_version": "1.5.0",
            "min": 0,
            "continuous_update": true,
            "readout_format": "d",
            "description_tooltip": null,
            "readout": true,
            "_model_module": "@jupyter-widgets/controls",
            "layout": "IPY_MODEL_845439de605f404b9386fc8afc275fce"
          }
        },
        "70354216c2614d3f84a3e755f33dece9": {
          "model_module": "@jupyter-widgets/controls",
          "model_name": "ButtonModel",
          "state": {
            "_view_name": "ButtonView",
            "style": "IPY_MODEL_a4b25892facb4f7f889b8baacddd32ac",
            "_dom_classes": [],
            "description": "Run Interact",
            "_model_name": "ButtonModel",
            "button_style": "",
            "_view_module": "@jupyter-widgets/controls",
            "_model_module_version": "1.5.0",
            "tooltip": "",
            "_view_count": null,
            "disabled": false,
            "_view_module_version": "1.5.0",
            "layout": "IPY_MODEL_3daa69dee25c4a6baa5fdaa6e50a1da0",
            "_model_module": "@jupyter-widgets/controls",
            "icon": ""
          }
        },
        "5ae38e63fdb449c8bcd615e9edc70016": {
          "model_module": "@jupyter-widgets/output",
          "model_name": "OutputModel",
          "state": {
            "_view_name": "OutputView",
            "msg_id": "",
            "_dom_classes": [],
            "_model_name": "OutputModel",
            "outputs": [
              {
                "output_type": "stream",
                "metadata": {
                  "tags": []
                },
                "text": "我可愛的 CNN 預測是 9\n",
                "stream": "stdout"
              },
              {
                "output_type": "display_data",
                "metadata": {
                  "tags": [],
                  "needs_background": "light"
                },
                "image/png": "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\n",
                "text/plain": "<Figure size 432x288 with 1 Axes>"
              }
            ],
            "_view_module": "@jupyter-widgets/output",
            "_model_module_version": "1.0.0",
            "_view_count": null,
            "_view_module_version": "1.0.0",
            "layout": "IPY_MODEL_513f91152a634622aa76716e0fd63257",
            "_model_module": "@jupyter-widgets/output"
          }
        },
        "74fda2f468f74d51a77181c02beaa898": {
          "model_module": "@jupyter-widgets/controls",
          "model_name": "SliderStyleModel",
          "state": {
            "_view_name": "StyleView",
            "handle_color": null,
            "_model_name": "SliderStyleModel",
            "description_width": "",
            "_view_module": "@jupyter-widgets/base",
            "_model_module_version": "1.5.0",
            "_view_count": null,
            "_view_module_version": "1.2.0",
            "_model_module": "@jupyter-widgets/controls"
          }
        },
        "845439de605f404b9386fc8afc275fce": {
          "model_module": "@jupyter-widgets/base",
          "model_name": "LayoutModel",
          "state": {
            "_view_name": "LayoutView",
            "grid_template_rows": null,
            "right": null,
            "justify_content": null,
            "_view_module": "@jupyter-widgets/base",
            "overflow": null,
            "_model_module_version": "1.2.0",
            "_view_count": null,
            "flex_flow": null,
            "width": null,
            "min_width": null,
            "border": null,
            "align_items": null,
            "bottom": null,
            "_model_module": "@jupyter-widgets/base",
            "top": null,
            "grid_column": null,
            "overflow_y": null,
            "overflow_x": null,
            "grid_auto_flow": null,
            "grid_area": null,
            "grid_template_columns": null,
            "flex": null,
            "_model_name": "LayoutModel",
            "justify_items": null,
            "grid_row": null,
            "max_height": null,
            "align_content": null,
            "visibility": null,
            "align_self": null,
            "height": null,
            "min_height": null,
            "padding": null,
            "grid_auto_rows": null,
            "grid_gap": null,
            "max_width": null,
            "order": null,
            "_view_module_version": "1.2.0",
            "grid_template_areas": null,
            "object_position": null,
            "object_fit": null,
            "grid_auto_columns": null,
            "margin": null,
            "display": null,
            "left": null
          }
        },
        "a4b25892facb4f7f889b8baacddd32ac": {
          "model_module": "@jupyter-widgets/controls",
          "model_name": "ButtonStyleModel",
          "state": {
            "_view_name": "StyleView",
            "_model_name": "ButtonStyleModel",
            "_view_module": "@jupyter-widgets/base",
            "_model_module_version": "1.5.0",
            "_view_count": null,
            "button_color": null,
            "font_weight": "",
            "_view_module_version": "1.2.0",
            "_model_module": "@jupyter-widgets/controls"
          }
        },
        "3daa69dee25c4a6baa5fdaa6e50a1da0": {
          "model_module": "@jupyter-widgets/base",
          "model_name": "LayoutModel",
          "state": {
            "_view_name": "LayoutView",
            "grid_template_rows": null,
            "right": null,
            "justify_content": null,
            "_view_module": "@jupyter-widgets/base",
            "overflow": null,
            "_model_module_version": "1.2.0",
            "_view_count": null,
            "flex_flow": null,
            "width": null,
            "min_width": null,
            "border": null,
            "align_items": null,
            "bottom": null,
            "_model_module": "@jupyter-widgets/base",
            "top": null,
            "grid_column": null,
            "overflow_y": null,
            "overflow_x": null,
            "grid_auto_flow": null,
            "grid_area": null,
            "grid_template_columns": null,
            "flex": null,
            "_model_name": "LayoutModel",
            "justify_items": null,
            "grid_row": null,
            "max_height": null,
            "align_content": null,
            "visibility": null,
            "align_self": null,
            "height": null,
            "min_height": null,
            "padding": null,
            "grid_auto_rows": null,
            "grid_gap": null,
            "max_width": null,
            "order": null,
            "_view_module_version": "1.2.0",
            "grid_template_areas": null,
            "object_position": null,
            "object_fit": null,
            "grid_auto_columns": null,
            "margin": null,
            "display": null,
            "left": null
          }
        },
        "513f91152a634622aa76716e0fd63257": {
          "model_module": "@jupyter-widgets/base",
          "model_name": "LayoutModel",
          "state": {
            "_view_name": "LayoutView",
            "grid_template_rows": null,
            "right": null,
            "justify_content": null,
            "_view_module": "@jupyter-widgets/base",
            "overflow": null,
            "_model_module_version": "1.2.0",
            "_view_count": null,
            "flex_flow": null,
            "width": null,
            "min_width": null,
            "border": null,
            "align_items": null,
            "bottom": null,
            "_model_module": "@jupyter-widgets/base",
            "top": null,
            "grid_column": null,
            "overflow_y": null,
            "overflow_x": null,
            "grid_auto_flow": null,
            "grid_area": null,
            "grid_template_columns": null,
            "flex": null,
            "_model_name": "LayoutModel",
            "justify_items": null,
            "grid_row": null,
            "max_height": null,
            "align_content": null,
            "visibility": null,
            "align_self": null,
            "height": null,
            "min_height": null,
            "padding": null,
            "grid_auto_rows": null,
            "grid_gap": null,
            "max_width": null,
            "order": null,
            "_view_module_version": "1.2.0",
            "grid_template_areas": null,
            "object_position": null,
            "object_fit": null,
            "grid_auto_columns": null,
            "margin": null,
            "display": null,
            "left": null
          }
        }
      }
    }
  },
  "cells": [
    {
      "cell_type": "code",
      "metadata": {
        "id": "QrMt3_h19Ywi"
      },
      "source": [
        "%matplotlib inline\n",
        "\n",
        "import numpy as np\n",
        "import matplotlib.pyplot as plt\n",
        "import pandas as pd\n",
        "#pandas as pd 其實可以不用啦 啊不知道ㄌ"
      ],
      "execution_count": 1,
      "outputs": []
    },
    {
      "cell_type": "code",
      "metadata": {
        "id": "cb3af8Nm9Ywq"
      },
      "source": [
        "from tensorflow.keras.utils import to_categorical\n",
        "from tensorflow.keras.models import Sequential\n",
        "from tensorflow.keras.layers import Conv2D, MaxPooling2D\n",
        "# 大小：三乘三 所以是2D\n",
        "from tensorflow.keras.layers import Dense, Flatten\n",
        "from tensorflow.keras.optimizers import SGD\n",
        "#可以去搜尋有什麼有名的優化方法"
      ],
      "execution_count": 2,
      "outputs": []
    },
    {
      "cell_type": "markdown",
      "metadata": {
        "id": "PVtNyv2r9Yww"
      },
      "source": [
        "### 1. 讀入 MNSIT 數據集"
      ]
    },
    {
      "cell_type": "code",
      "metadata": {
        "id": "FC9CWfkb9Yww"
      },
      "source": [
        "from tensorflow.keras.datasets import mnist"
      ],
      "execution_count": 3,
      "outputs": []
    },
    {
      "cell_type": "code",
      "metadata": {
        "id": "K7IGYFs99Yw1",
        "outputId": "3790cefe-4c3c-41d4-9d30-11e09c7ac6bc",
        "colab": {
          "base_uri": "https://localhost:8080/"
        }
      },
      "source": [
        "(x_train, y_train), (x_test, y_test) = mnist.load_data()\n",
        "#training跟testing的資料要分開讀"
      ],
      "execution_count": 4,
      "outputs": [
        {
          "output_type": "stream",
          "text": [
            "Downloading data from https://storage.googleapis.com/tensorflow/tf-keras-datasets/mnist.npz\n",
            "11493376/11490434 [==============================] - 0s 0us/step\n"
          ],
          "name": "stdout"
        }
      ]
    },
    {
      "cell_type": "markdown",
      "metadata": {
        "id": "fjly1oXo9Yw4"
      },
      "source": [
        "### 2. 資料整理"
      ]
    },
    {
      "cell_type": "markdown",
      "metadata": {
        "id": "dtMB8V5S9Yw5"
      },
      "source": [
        "### Channel\n",
        "\n",
        "CNN 要注意一張圖有多少個 channel, 開始我們因為只有灰階, 所以只有一個 channel。因此我們要轉一下我們的資料格式:\n",
        "\n",
        "    (28,28) --> (28, 28, 1)"
      ]
    },
    {
      "cell_type": "code",
      "metadata": {
        "id": "IWae_bDJ9Yw5"
      },
      "source": [
        "x_train = x_train.reshape(60000, 28, 28, 1) / 255\n",
        "#cnn要告訴他有幾個channel 同樣28*28如果是RGB就是三個channel 現在是灰階channel是一個"
      ],
      "execution_count": 5,
      "outputs": []
    },
    {
      "cell_type": "code",
      "metadata": {
        "id": "m9zpTgWx9Yw7"
      },
      "source": [
        "x_test = x_test.reshape(10000, 28, 28, 1) / 255"
      ],
      "execution_count": 6,
      "outputs": []
    },
    {
      "cell_type": "code",
      "metadata": {
        "id": "eT6C0JEp9Yw9"
      },
      "source": [
        "y_train = to_categorical(y_train, 10)\n",
        "#5個種類就改成5\n",
        "y_test = to_categorical(y_test, 10)"
      ],
      "execution_count": 7,
      "outputs": []
    },
    {
      "cell_type": "markdown",
      "metadata": {
        "id": "av3fG4sA9Yw_"
      },
      "source": [
        "### 3. step 1: 打造函數學習機 (CNN)"
      ]
    },
    {
      "cell_type": "markdown",
      "metadata": {
        "id": "uZUJaNRpBFeF"
      },
      "source": [
        "來做三層conv吧\n",
        "第一層做8個filter"
      ]
    },
    {
      "cell_type": "code",
      "metadata": {
        "id": "hunECI8x9Yw_"
      },
      "source": [
        "model = Sequential()\n",
        "#打開函數學習機"
      ],
      "execution_count": 31,
      "outputs": []
    },
    {
      "cell_type": "code",
      "metadata": {
        "id": "6jt9NNPf9YxB"
      },
      "source": [
        "model.add(Conv2D(8, (3,3), padding='same',\n",
        "                 input_shape=(28,28,1),\n",
        "                activation='relu'))\n",
        "#第一層8個filter 回家作業可以改這個"
      ],
      "execution_count": 32,
      "outputs": []
    },
    {
      "cell_type": "code",
      "metadata": {
        "id": "MVxdeiFM9YxD"
      },
      "source": [
        "model.add(MaxPooling2D(pool_size=(2,2)))"
      ],
      "execution_count": 33,
      "outputs": []
    },
    {
      "cell_type": "code",
      "metadata": {
        "id": "2M4VazVh9YxF"
      },
      "source": [
        "model.add(Conv2D(16, (3,3), padding='same',\n",
        "                activation='relu'))"
      ],
      "execution_count": 34,
      "outputs": []
    },
    {
      "cell_type": "code",
      "metadata": {
        "id": "P85ahwDu9YxG"
      },
      "source": [
        "model.add(MaxPooling2D(pool_size=(2,2)))"
      ],
      "execution_count": 35,
      "outputs": []
    },
    {
      "cell_type": "code",
      "metadata": {
        "id": "8yqtuWHb9YxI"
      },
      "source": [
        "model.add(Conv2D(32, (3,3), padding='same',\n",
        "                activation='relu'))"
      ],
      "execution_count": 36,
      "outputs": []
    },
    {
      "cell_type": "code",
      "metadata": {
        "id": "xcNkCzti9YxK"
      },
      "source": [
        "model.add(MaxPooling2D(pool_size=(2,2)))"
      ],
      "execution_count": 37,
      "outputs": []
    },
    {
      "cell_type": "code",
      "metadata": {
        "id": "uIomaQTP9YxL"
      },
      "source": [
        "model.add(Flatten())"
      ],
      "execution_count": 38,
      "outputs": []
    },
    {
      "cell_type": "code",
      "metadata": {
        "id": "BjtUxlZ39YxM"
      },
      "source": [
        "model.add(Dense(20, activation='relu'))\n",
        "#決定該層使用幾個神經元（可改）"
      ],
      "execution_count": 39,
      "outputs": []
    },
    {
      "cell_type": "code",
      "metadata": {
        "id": "r7bRKUWy9YxO"
      },
      "source": [
        "model.add(Dense(10, activation='softmax'))\n",
        "#前面輸入10個所以這裡只能是10（輸出幾個神經元）"
      ],
      "execution_count": 40,
      "outputs": []
    },
    {
      "cell_type": "markdown",
      "metadata": {
        "id": "3nKAs3Tn9YxP"
      },
      "source": [
        "#### 看一下我們的神經網路"
      ]
    },
    {
      "cell_type": "code",
      "metadata": {
        "id": "9-P14DbQ9YxP",
        "outputId": "b59df17d-7493-4448-b3d5-f2559d8c235a",
        "colab": {
          "base_uri": "https://localhost:8080/"
        }
      },
      "source": [
        "model.summary()\n",
        "#第一行8為記分板個數（之前設定的），28*28為大小，到288拉平\n",
        "#9個權重+一個偏值=10 阿有8個計分板 10*8=80個要掃"
      ],
      "execution_count": 41,
      "outputs": [
        {
          "output_type": "stream",
          "text": [
            "Model: \"sequential_1\"\n",
            "_________________________________________________________________\n",
            "Layer (type)                 Output Shape              Param #   \n",
            "=================================================================\n",
            "conv2d_6 (Conv2D)            (None, 28, 28, 8)         80        \n",
            "_________________________________________________________________\n",
            "max_pooling2d_4 (MaxPooling2 (None, 14, 14, 8)         0         \n",
            "_________________________________________________________________\n",
            "conv2d_7 (Conv2D)            (None, 14, 14, 16)        1168      \n",
            "_________________________________________________________________\n",
            "max_pooling2d_5 (MaxPooling2 (None, 7, 7, 16)          0         \n",
            "_________________________________________________________________\n",
            "conv2d_8 (Conv2D)            (None, 7, 7, 32)          4640      \n",
            "_________________________________________________________________\n",
            "max_pooling2d_6 (MaxPooling2 (None, 3, 3, 32)          0         \n",
            "_________________________________________________________________\n",
            "flatten_1 (Flatten)          (None, 288)               0         \n",
            "_________________________________________________________________\n",
            "dense_2 (Dense)              (None, 20)                5780      \n",
            "_________________________________________________________________\n",
            "dense_3 (Dense)              (None, 10)                210       \n",
            "=================================================================\n",
            "Total params: 11,878\n",
            "Trainable params: 11,878\n",
            "Non-trainable params: 0\n",
            "_________________________________________________________________\n"
          ],
          "name": "stdout"
        }
      ]
    },
    {
      "cell_type": "markdown",
      "metadata": {
        "id": "z-j0GLSI9YxS"
      },
      "source": [
        "#### 組裝"
      ]
    },
    {
      "cell_type": "code",
      "metadata": {
        "id": "fkz25Kv79YxS"
      },
      "source": [
        "model.compile(loss='mse', optimizer=SGD(lr=0.087),\n",
        "             metrics=['accuracy'])"
      ],
      "execution_count": 42,
      "outputs": []
    },
    {
      "cell_type": "markdown",
      "metadata": {
        "id": "LoY3PnFh9YxU"
      },
      "source": [
        "### 4. step 2: fit"
      ]
    },
    {
      "cell_type": "code",
      "metadata": {
        "scrolled": true,
        "id": "N-pg4pWN9YxU",
        "outputId": "d4e46b34-c214-4930-b053-63a44bf41245",
        "colab": {
          "base_uri": "https://localhost:8080/"
        }
      },
      "source": [
        "model.fit(x_train, y_train, batch_size=128, epochs=12)\n",
        "#訓練12次 應該可以改ㄅ"
      ],
      "execution_count": 43,
      "outputs": [
        {
          "output_type": "stream",
          "text": [
            "Epoch 1/12\n",
            "469/469 [==============================] - 1s 3ms/step - loss: 0.0896 - accuracy: 0.1662\n",
            "Epoch 2/12\n",
            "469/469 [==============================] - 1s 3ms/step - loss: 0.0891 - accuracy: 0.2196\n",
            "Epoch 3/12\n",
            "469/469 [==============================] - 1s 3ms/step - loss: 0.0879 - accuracy: 0.3224\n",
            "Epoch 4/12\n",
            "469/469 [==============================] - 2s 3ms/step - loss: 0.0819 - accuracy: 0.4734\n",
            "Epoch 5/12\n",
            "469/469 [==============================] - 1s 3ms/step - loss: 0.0441 - accuracy: 0.7240\n",
            "Epoch 6/12\n",
            "469/469 [==============================] - 1s 3ms/step - loss: 0.0262 - accuracy: 0.8221\n",
            "Epoch 7/12\n",
            "469/469 [==============================] - 1s 3ms/step - loss: 0.0227 - accuracy: 0.8432\n",
            "Epoch 8/12\n",
            "469/469 [==============================] - 2s 3ms/step - loss: 0.0210 - accuracy: 0.8531\n",
            "Epoch 9/12\n",
            "469/469 [==============================] - 2s 3ms/step - loss: 0.0199 - accuracy: 0.8597\n",
            "Epoch 10/12\n",
            "469/469 [==============================] - 1s 3ms/step - loss: 0.0191 - accuracy: 0.8642\n",
            "Epoch 11/12\n",
            "469/469 [==============================] - 1s 3ms/step - loss: 0.0185 - accuracy: 0.8684\n",
            "Epoch 12/12\n",
            "469/469 [==============================] - 1s 3ms/step - loss: 0.0180 - accuracy: 0.8709\n"
          ],
          "name": "stdout"
        },
        {
          "output_type": "execute_result",
          "data": {
            "text/plain": [
              "<tensorflow.python.keras.callbacks.History at 0x7f0e865d7828>"
            ]
          },
          "metadata": {
            "tags": []
          },
          "execution_count": 43
        }
      ]
    },
    {
      "cell_type": "markdown",
      "metadata": {
        "id": "rmoL3GlGDtSm"
      },
      "source": [
        "回家作業：唯一要求9成五以上就好"
      ]
    },
    {
      "cell_type": "markdown",
      "metadata": {
        "id": "saGvZGd59YxV"
      },
      "source": [
        "### Step 3. 預測"
      ]
    },
    {
      "cell_type": "code",
      "metadata": {
        "id": "JR3NJSfE9YxW",
        "outputId": "0ce888a5-5235-474f-f987-e79786a22121",
        "colab": {
          "base_uri": "https://localhost:8080/"
        }
      },
      "source": [
        "result = model.predict_classes(x_test)"
      ],
      "execution_count": 44,
      "outputs": [
        {
          "output_type": "stream",
          "text": [
            "WARNING:tensorflow:From <ipython-input-44-63af5bb2f9b6>:1: Sequential.predict_classes (from tensorflow.python.keras.engine.sequential) is deprecated and will be removed after 2021-01-01.\n",
            "Instructions for updating:\n",
            "Please use instead:* `np.argmax(model.predict(x), axis=-1)`,   if your model does multi-class classification   (e.g. if it uses a `softmax` last-layer activation).* `(model.predict(x) > 0.5).astype(\"int32\")`,   if your model does binary classification   (e.g. if it uses a `sigmoid` last-layer activation).\n"
          ],
          "name": "stdout"
        }
      ]
    },
    {
      "cell_type": "markdown",
      "metadata": {
        "id": "u70ae7Kt9YxX"
      },
      "source": [
        "### 看看測試資料表現如何"
      ]
    },
    {
      "cell_type": "code",
      "metadata": {
        "id": "khzKJNY69YxX",
        "outputId": "c7eafffc-e23c-49c1-d040-ed4c0bf670bd",
        "colab": {
          "base_uri": "https://localhost:8080/"
        }
      },
      "source": [
        "loss, acc = model.evaluate(x_test, y_test)"
      ],
      "execution_count": 45,
      "outputs": [
        {
          "output_type": "stream",
          "text": [
            "313/313 [==============================] - 1s 2ms/step - loss: 0.0176 - accuracy: 0.8747\n"
          ],
          "name": "stdout"
        }
      ]
    },
    {
      "cell_type": "code",
      "metadata": {
        "id": "SuIz5Kyy9YxZ",
        "outputId": "8242e267-c33c-4ed0-f4bc-9a6e780e4383",
        "colab": {
          "base_uri": "https://localhost:8080/"
        }
      },
      "source": [
        "print(f'測試資料的正確率為 {acc*100:.2f}%')"
      ],
      "execution_count": 46,
      "outputs": [
        {
          "output_type": "stream",
          "text": [
            "測試資料的正確率為 87.47%\n"
          ],
          "name": "stdout"
        }
      ]
    },
    {
      "cell_type": "markdown",
      "metadata": {
        "id": "n2JOnplqHlaP"
      },
      "source": [
        ""
      ]
    },
    {
      "cell_type": "code",
      "metadata": {
        "id": "CiuQhR0S9Yxa"
      },
      "source": [
        "def my_predict(n):\n",
        "    print('我可愛的 CNN 預測是', result[n])\n",
        "    X = x_test[n].reshape(28,28)\n",
        "    plt.imshow(X, cmap='Greys')"
      ],
      "execution_count": 47,
      "outputs": []
    },
    {
      "cell_type": "code",
      "metadata": {
        "id": "LetP6qCh9Yxb"
      },
      "source": [
        "from ipywidgets import interact_manual"
      ],
      "execution_count": 48,
      "outputs": []
    },
    {
      "cell_type": "code",
      "metadata": {
        "id": "7dzU-8KQ9Yxc",
        "outputId": "6b179364-214d-410e-b6c3-5890927e120f",
        "colab": {
          "base_uri": "https://localhost:8080/",
          "height": 346,
          "referenced_widgets": [
            "2c0536814ee140b3bfe9c63671338c02",
            "699cf582592b4c23ab77cc8c10e2e3b4",
            "21abf701905840f5a144c4fd3f3c7a27",
            "70354216c2614d3f84a3e755f33dece9",
            "5ae38e63fdb449c8bcd615e9edc70016",
            "74fda2f468f74d51a77181c02beaa898",
            "845439de605f404b9386fc8afc275fce",
            "a4b25892facb4f7f889b8baacddd32ac",
            "3daa69dee25c4a6baa5fdaa6e50a1da0",
            "513f91152a634622aa76716e0fd63257"
          ]
        }
      },
      "source": [
        "interact_manual(my_predict, n=(0, 9999));"
      ],
      "execution_count": 49,
      "outputs": [
        {
          "output_type": "display_data",
          "data": {
            "application/vnd.jupyter.widget-view+json": {
              "model_id": "2c0536814ee140b3bfe9c63671338c02",
              "version_minor": 0,
              "version_major": 2
            },
            "text/plain": [
              "interactive(children=(IntSlider(value=4999, description='n', max=9999), Button(description='Run Interact', sty…"
            ]
          },
          "metadata": {
            "tags": []
          }
        }
      ]
    },
    {
      "cell_type": "markdown",
      "metadata": {
        "id": "hmhyaXSf9Yxe"
      },
      "source": [
        "### 把我們的 model 存起來"
      ]
    },
    {
      "cell_type": "code",
      "metadata": {
        "id": "_LBRt46c9Yxe"
      },
      "source": [
        "model.save('myCNNmodel.h5')"
      ],
      "execution_count": null,
      "outputs": []
    }
  ]
}